{
 "metadata": {
  "name": "",
  "signature": "sha256:7e91f1aa0e5883b2a7262b7862eb57a99d7e14bf0788ce00d853b3ea060b1ce5"
 },
 "nbformat": 3,
 "nbformat_minor": 0,
 "worksheets": [
  {
   "cells": [
    {
     "cell_type": "heading",
     "level": 1,
     "metadata": {},
     "source": [
      "Import modules"
     ]
    },
    {
     "cell_type": "markdown",
     "metadata": {},
     "source": [
      "multiprocessing is the key one in terms of creating sub-processes."
     ]
    },
    {
     "cell_type": "code",
     "collapsed": false,
     "input": [
      "import multiprocessing as mp\n",
      "import random\n",
      "import string"
     ],
     "language": "python",
     "metadata": {},
     "outputs": [],
     "prompt_number": 3
    },
    {
     "cell_type": "heading",
     "level": 1,
     "metadata": {},
     "source": [
      "The calculation function to be performed"
     ]
    },
    {
     "cell_type": "markdown",
     "metadata": {},
     "source": [
      "The parameter output is important.  It an inter-process communication helper passed into the function that allows the function to report back the calculation results to the parent process.   "
     ]
    },
    {
     "cell_type": "code",
     "collapsed": false,
     "input": [
      "def _do_calculation(length, output):\n",
      "    \"\"\" Generates a random string of numbers, lower- and uppercase chars. \n",
      "    \n",
      "    :param int length: Length of string to be generated.\n",
      "    :param mp.Queue output: Inter-process communication helper.\n",
      "    \n",
      "    \"\"\"\n",
      "    # Generate a random string - but this could be any calculation.\n",
      "    rand_str = ''.join(random.choice(\n",
      "                    string.ascii_lowercase\n",
      "                    + string.ascii_uppercase\n",
      "                    + string.digits)\n",
      "               for i in range(length))\n",
      "    \n",
      "    # Return result to parent process.\n",
      "    output.put(rand_str)"
     ],
     "language": "python",
     "metadata": {},
     "outputs": [],
     "prompt_number": 8
    },
    {
     "cell_type": "heading",
     "level": 1,
     "metadata": {},
     "source": [
      "The parallelizing code."
     ]
    },
    {
     "cell_type": "code",
     "collapsed": false,
     "input": [
      "# Setup inter-process communication queue\n",
      "_output = mp.Queue()\n",
      "\n",
      "# Create an array of the parallel processes to be executed.\n",
      "_processes = [mp.Process(target=_do_calculation, args=(5, _output)) for x in range(20)]\n",
      "\n",
      "# Launch proccesses in parallel.\n",
      "for p in _processes:\n",
      "    p.start()\n",
      "    \n",
      "# Wait for forked processes to complete.\n",
      "for p in _processes:\n",
      "    p.join()\n",
      "    \n",
      "# Create an array of the calculation results.\n",
      "_results = [_output.get() for p in processes]"
     ],
     "language": "python",
     "metadata": {},
     "outputs": [],
     "prompt_number": 9
    },
    {
     "cell_type": "heading",
     "level": 1,
     "metadata": {},
     "source": [
      "Display results"
     ]
    },
    {
     "cell_type": "code",
     "collapsed": false,
     "input": [
      "print(_results)"
     ],
     "language": "python",
     "metadata": {},
     "outputs": [
      {
       "output_type": "stream",
       "stream": "stdout",
       "text": [
        "['nBo3X', 'Z2fgW', '4wqVn', '2AjLL', 'TiRYr', 'aokEI', 'glMD5', 'xvJbf', '774hi', 'gFyHK', 'WMtr3', 'rs5NJ', 'nhtuq', 'BPbQj', 'KKGU3', 'h3m5C', 'v4XTF', 'KR7Rx', '2pj6z', 'IQgpx']\n"
       ]
      }
     ],
     "prompt_number": 10
    },
    {
     "cell_type": "code",
     "collapsed": false,
     "input": [],
     "language": "python",
     "metadata": {},
     "outputs": []
    }
   ],
   "metadata": {}
  }
 ]
}