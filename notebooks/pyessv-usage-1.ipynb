{
 "cells": [
  {
   "cell_type": "markdown",
   "metadata": {},
   "source": [
    "# Setup"
   ]
  },
  {
   "cell_type": "markdown",
   "metadata": {},
   "source": [
    "### Import libs."
   ]
  },
  {
   "cell_type": "code",
   "execution_count": 1,
   "metadata": {
    "collapsed": false
   },
   "outputs": [],
   "source": [
    "import os\n",
    "\n",
    "import pyessv"
   ]
  },
  {
   "cell_type": "markdown",
   "metadata": {},
   "source": [
    "### Set constants."
   ]
  },
  {
   "cell_type": "code",
   "execution_count": 2,
   "metadata": {
    "collapsed": true
   },
   "outputs": [],
   "source": [
    "_VOCAB_DOMAIN = u\"earth-system.modelling\"\n",
    "_VOCAB_SUBDOMAIN = u\"ipsl.prodiguer\"    \n",
    "_VOCAB_IO_DIR = os.getenv(\"PRODIGUER_PYESSV_HOME\")\n",
    "_TERMSET_COMPUTE_NODE = u\"compute_node\""
   ]
  },
  {
   "cell_type": "markdown",
   "metadata": {},
   "source": [
    "# Partition creation"
   ]
  },
  {
   "cell_type": "code",
   "execution_count": 3,
   "metadata": {
    "collapsed": false
   },
   "outputs": [],
   "source": [
    "# Create vocab partition.\n",
    "partition = pyessv.create_partition(\n",
    "    _VOCAB_DOMAIN,\n",
    "    _VOCAB_SUBDOMAIN,\n",
    "    _VOCAB_IO_DIR\n",
    ")"
   ]
  },
  {
   "cell_type": "code",
   "execution_count": 4,
   "metadata": {
    "collapsed": false
   },
   "outputs": [
    {
     "name": "stdout",
     "output_type": "stream",
     "text": [
      "PYESSV PARTITION #1:\n",
      "\tdomain = earth-system.modelling\n",
      "\tsub-domain = ipsl.prodiguer\n",
      "\troot-dir = /Users/macg/dev/tmp/pyessv-prodiguer\n"
     ]
    }
   ],
   "source": [
    "# Show partitions.\n",
    "pyessv.show_partitions()"
   ]
  },
  {
   "cell_type": "markdown",
   "metadata": {},
   "source": [
    "# Partition cache"
   ]
  },
  {
   "cell_type": "markdown",
   "metadata": {},
   "source": [
    "### Load"
   ]
  },
  {
   "cell_type": "code",
   "execution_count": 5,
   "metadata": {
    "collapsed": false
   },
   "outputs": [
    {
     "name": "stdout",
     "output_type": "stream",
     "text": [
      "2015-12-01T13:21:06.622705 [INFO] :: IPSL PYESSV > ** : partition cache loaded from @ /Users/macg/dev/tmp/pyessv-prodiguer\n"
     ]
    }
   ],
   "source": [
    "# Loads terms from file system into memory.\n",
    "partition.load()"
   ]
  },
  {
   "cell_type": "markdown",
   "metadata": {},
   "source": [
    "### Counts"
   ]
  },
  {
   "cell_type": "code",
   "execution_count": 6,
   "metadata": {
    "collapsed": false
   },
   "outputs": [],
   "source": [
    "# Cache count - all terms in all termsets;\n",
    "assert partition.count() == 456\n",
    "\n",
    "# Cache count - terms within a single termset;\n",
    "assert partition.count(_TERMSET_COMPUTE_NODE) == 7\n",
    "\n",
    "# Cache count - single term;\n",
    "assert partition.count(_TERMSET_COMPUTE_NODE, \"tgcc\") == 1"
   ]
  },
  {
   "cell_type": "markdown",
   "metadata": {},
   "source": [
    "### Access"
   ]
  },
  {
   "cell_type": "code",
   "execution_count": 7,
   "metadata": {
    "collapsed": false
   },
   "outputs": [],
   "source": [
    "# Cache access - all termsets;\n",
    "termsets = partition.query()\n",
    "assert isinstance(termsets, dict)\n",
    "\n",
    "# Cache access - single termset;\n",
    "termset = partition.query(_TERMSET_COMPUTE_NODE)\n",
    "assert isinstance(termset, list)\n",
    "\n",
    "# Cache access - single term.\n",
    "term = partition.query(_TERMSET_COMPUTE_NODE, \"tgcc\")\n",
    "assert isinstance(term, pyessv.Term)"
   ]
  },
  {
   "cell_type": "markdown",
   "metadata": {},
   "source": [
    "### Listing"
   ]
  },
  {
   "cell_type": "code",
   "execution_count": 8,
   "metadata": {
    "collapsed": false
   },
   "outputs": [
    {
     "name": "stdout",
     "output_type": "stream",
     "text": [
      "termset --> earth-system.modelling:ipsl.prodiguer:model :: 26\n",
      "termset --> earth-system.modelling:ipsl.prodiguer:compute_node :: 7\n",
      "termset --> earth-system.modelling:ipsl.prodiguer:simulation_state :: 5\n",
      "termset --> earth-system.modelling:ipsl.prodiguer:message_type :: 21\n",
      "termset --> earth-system.modelling:ipsl.prodiguer:experiment_group :: 4\n",
      "termset --> earth-system.modelling:ipsl.prodiguer:simulation_space :: 7\n",
      "termset --> earth-system.modelling:ipsl.prodiguer:message_application :: 3\n",
      "termset --> earth-system.modelling:ipsl.prodiguer:compute_node_login :: 122\n",
      "termset --> earth-system.modelling:ipsl.prodiguer:job_type :: 3\n",
      "termset --> earth-system.modelling:ipsl.prodiguer:model_forcing :: 18\n",
      "termset --> earth-system.modelling:ipsl.prodiguer:compute_node_machine :: 10\n",
      "termset --> earth-system.modelling:ipsl.prodiguer:institute :: 25\n",
      "termset --> earth-system.modelling:ipsl.prodiguer:message_user :: 2\n",
      "termset --> earth-system.modelling:ipsl.prodiguer:message_producer :: 2\n",
      "termset --> earth-system.modelling:ipsl.prodiguer:activity :: 5\n",
      "termset --> earth-system.modelling:ipsl.prodiguer:experiment :: 196\n"
     ]
    }
   ],
   "source": [
    "# Cache listing - all termsets;\n",
    "partition.show()"
   ]
  },
  {
   "cell_type": "code",
   "execution_count": 9,
   "metadata": {
    "collapsed": false
   },
   "outputs": [
    {
     "name": "stdout",
     "output_type": "stream",
     "text": [
      "term --> earth-system.modelling:ipsl.prodiguer:compute_node::ccrt::[accepted]\n",
      "term --> earth-system.modelling:ipsl.prodiguer:compute_node::cenaero::[accepted]\n",
      "term --> earth-system.modelling:ipsl.prodiguer:compute_node::cines::[accepted]\n",
      "term --> earth-system.modelling:ipsl.prodiguer:compute_node::idris::[accepted]\n",
      "term --> earth-system.modelling:ipsl.prodiguer:compute_node::default::[accepted]\n",
      "term --> earth-system.modelling:ipsl.prodiguer:compute_node::ipsl::[accepted]\n",
      "term --> earth-system.modelling:ipsl.prodiguer:compute_node::tgcc::[accepted]\n"
     ]
    }
   ],
   "source": [
    "# Cache listing - single termset;\n",
    "partition.show(_TERMSET_COMPUTE_NODE)"
   ]
  },
  {
   "cell_type": "code",
   "execution_count": 10,
   "metadata": {
    "collapsed": false
   },
   "outputs": [
    {
     "name": "stdout",
     "output_type": "stream",
     "text": [
      "term --> earth-system.modelling:ipsl.prodiguer:compute_node::tgcc::[accepted]\n"
     ]
    }
   ],
   "source": [
    "# Cache listing - single term;\n",
    "partition.show(_TERMSET_COMPUTE_NODE, \"tgcc\")"
   ]
  },
  {
   "cell_type": "markdown",
   "metadata": {},
   "source": [
    "# Term management"
   ]
  },
  {
   "cell_type": "markdown",
   "metadata": {},
   "source": [
    "### Creation"
   ]
  },
  {
   "cell_type": "code",
   "execution_count": 11,
   "metadata": {
    "collapsed": false
   },
   "outputs": [],
   "source": [
    "# Use partition to create new terms.\n",
    "term = partition.create(_TERMSET_COMPUTE_NODE, u\"xxx\")\n",
    "assert isinstance(term, pyessv.Term)"
   ]
  },
  {
   "cell_type": "markdown",
   "metadata": {},
   "source": [
    "### Validation"
   ]
  },
  {
   "cell_type": "code",
   "execution_count": 12,
   "metadata": {
    "collapsed": false
   },
   "outputs": [
    {
     "name": "stdout",
     "output_type": "stream",
     "text": [
      "term kind is invalid\n"
     ]
    }
   ],
   "source": [
    "# Invalid term - kind has invalid characters.\n",
    "invalid_term = partition.create(u\"&!@\", u\"xxx\")\n",
    "\n",
    "assert invalid_term.is_valid == False\n",
    "assert len(invalid_term.errors) == 1\n",
    "\n",
    "invalid_term.show_errors()"
   ]
  },
  {
   "cell_type": "code",
   "execution_count": 13,
   "metadata": {
    "collapsed": false
   },
   "outputs": [
    {
     "name": "stdout",
     "output_type": "stream",
     "text": [
      "term name is invalid\n"
     ]
    }
   ],
   "source": [
    "# Invalid term - name has invalid characters.\n",
    "invalid_term = partition.create(_TERMSET_COMPUTE_NODE, u\"x&!\")\n",
    "\n",
    "assert invalid_term.is_valid == False\n",
    "assert len(invalid_term.errors) == 1\n",
    "\n",
    "invalid_term.show_errors()"
   ]
  },
  {
   "cell_type": "code",
   "execution_count": 14,
   "metadata": {
    "collapsed": false
   },
   "outputs": [
    {
     "name": "stdout",
     "output_type": "stream",
     "text": [
      "term kind is invalid\n",
      "term name is invalid\n"
     ]
    }
   ],
   "source": [
    "# Invalid term - kind & name have invalid characters.\n",
    "invalid_term = partition.create(u\"&!@\", u\"x&!\")\n",
    "\n",
    "assert invalid_term.is_valid == False\n",
    "assert len(invalid_term.errors) == 2\n",
    "\n",
    "invalid_term.show_errors()"
   ]
  },
  {
   "cell_type": "markdown",
   "metadata": {},
   "source": [
    "### Encoding"
   ]
  },
  {
   "cell_type": "code",
   "execution_count": 15,
   "metadata": {
    "collapsed": false
   },
   "outputs": [],
   "source": [
    "# Encode as python dictionary.\n",
    "as_dict = term.as_dict()\n",
    "assert isinstance(as_dict, dict)\n",
    "\n",
    "# Encode as JSON.\n",
    "as_json = term.as_json()\n",
    "assert isinstance(as_json, str)"
   ]
  },
  {
   "cell_type": "markdown",
   "metadata": {},
   "source": [
    "### Persistence"
   ]
  },
  {
   "cell_type": "code",
   "execution_count": 16,
   "metadata": {
    "collapsed": false
   },
   "outputs": [
    {
     "name": "stdout",
     "output_type": "stream",
     "text": [
      "2015-12-01T13:21:07.114497 [INFO] :: IPSL PYESSV > ** : term written to file system: term --> earth-system.modelling:ipsl.prodiguer:compute_node::xxx::[pending]\n",
      "2015-12-01T13:21:07.114558 [INFO] :: IPSL PYESSV > ** : term written to cache: term --> earth-system.modelling:ipsl.prodiguer:compute_node::xxx::[pending]\n"
     ]
    }
   ],
   "source": [
    "# Saving a term writes to cache & file system.\n",
    "assert term.is_cached == False\n",
    "assert term.is_written == False\n",
    "\n",
    "term.save()\n",
    "\n",
    "assert term.is_cached == True\n",
    "assert term.is_written == True"
   ]
  },
  {
   "cell_type": "markdown",
   "metadata": {},
   "source": [
    "# Term Governance"
   ]
  },
  {
   "cell_type": "code",
   "execution_count": 17,
   "metadata": {
    "collapsed": false
   },
   "outputs": [
    {
     "data": {
      "text/plain": [
       "u'pending'"
      ]
     },
     "execution_count": 17,
     "metadata": {},
     "output_type": "execute_result"
    }
   ],
   "source": [
    "# What is initial governance status ?\n",
    "term.status"
   ]
  },
  {
   "cell_type": "code",
   "execution_count": 18,
   "metadata": {
    "collapsed": false
   },
   "outputs": [
    {
     "name": "stdout",
     "output_type": "stream",
     "text": [
      "2015-12-01T13:21:07.128113 [INFO] :: IPSL PYESSV > ** : term written to file system: term --> earth-system.modelling:ipsl.prodiguer:compute_node::xxx::[accepted]\n"
     ]
    }
   ],
   "source": [
    "# Accept.\n",
    "term.accept()"
   ]
  },
  {
   "cell_type": "code",
   "execution_count": 19,
   "metadata": {
    "collapsed": false
   },
   "outputs": [
    {
     "name": "stdout",
     "output_type": "stream",
     "text": [
      "2015-12-01T13:21:07.131947 [INFO] :: IPSL PYESSV > ** : term written to file system: term --> earth-system.modelling:ipsl.prodiguer:compute_node::xxx::[rejected]\n"
     ]
    }
   ],
   "source": [
    "# Reject.\n",
    "term.reject()"
   ]
  },
  {
   "cell_type": "code",
   "execution_count": 20,
   "metadata": {
    "collapsed": false
   },
   "outputs": [
    {
     "name": "stdout",
     "output_type": "stream",
     "text": [
      "2015-12-01T13:21:07.135958 [INFO] :: IPSL PYESSV > ** : term written to file system: term --> earth-system.modelling:ipsl.prodiguer:compute_node::xxx::[obsolete]\n"
     ]
    }
   ],
   "source": [
    "# Deprecate.\n",
    "term.deprecate()"
   ]
  },
  {
   "cell_type": "code",
   "execution_count": 21,
   "metadata": {
    "collapsed": false
   },
   "outputs": [
    {
     "name": "stdout",
     "output_type": "stream",
     "text": [
      "2015-12-01T13:21:07.141281 [INFO] :: IPSL PYESSV > ** : term removed from file system: term --> earth-system.modelling:ipsl.prodiguer:compute_node::xxx::[obsolete]\n",
      "2015-12-01T13:21:07.141406 [INFO] :: IPSL PYESSV > ** : term removed from cache: term --> earth-system.modelling:ipsl.prodiguer:compute_node::xxx::[obsolete]\n"
     ]
    }
   ],
   "source": [
    "# Destroy.\n",
    "assert partition.count(_TERMSET_COMPUTE_NODE) == 8\n",
    "assert partition.query(_TERMSET_COMPUTE_NODE, \"xxx\") is not None\n",
    "\n",
    "term.destroy()\n",
    "\n",
    "assert partition.count(_TERMSET_COMPUTE_NODE) == 7\n",
    "assert partition.query(_TERMSET_COMPUTE_NODE, \"xxx\") is None"
   ]
  },
  {
   "cell_type": "markdown",
   "metadata": {},
   "source": [
    "# Term Parsing"
   ]
  },
  {
   "cell_type": "code",
   "execution_count": 22,
   "metadata": {
    "collapsed": false
   },
   "outputs": [],
   "source": [
    "# Parse a name that matches. \n",
    "name = \"tgcc\"\n",
    "parsed_name = partition.parse(_TERMSET_COMPUTE_NODE, name)\n",
    "assert name == parsed_name"
   ]
  },
  {
   "cell_type": "code",
   "execution_count": 23,
   "metadata": {
    "collapsed": false
   },
   "outputs": [],
   "source": [
    "# Parse a name that almost matches. \n",
    "name = \"tGcC\"\n",
    "parsed_name = partition.parse(_TERMSET_COMPUTE_NODE, name)\n",
    "assert name != parsed_name\n",
    "assert parsed_name == \"tgcc\""
   ]
  },
  {
   "cell_type": "code",
   "execution_count": 24,
   "metadata": {
    "collapsed": false
   },
   "outputs": [],
   "source": [
    "# Parse an alternative name.\n",
    "alt_name = \"saclay\"\n",
    "parsed_name = partition.parse(_TERMSET_COMPUTE_NODE, alt_name)\n",
    "assert alt_name != parsed_name\n",
    "assert parsed_name == \"tgcc\""
   ]
  },
  {
   "cell_type": "code",
   "execution_count": 25,
   "metadata": {
    "collapsed": false
   },
   "outputs": [],
   "source": [
    "# Parse an alias.\n",
    "alias = \"TGCC-1\"\n",
    "parsed_name = partition.parse(_TERMSET_COMPUTE_NODE, alias)\n",
    "assert alias != parsed_name\n",
    "assert parsed_name == \"tgcc\""
   ]
  },
  {
   "cell_type": "markdown",
   "metadata": {},
   "source": [
    "# Term Associations"
   ]
  },
  {
   "cell_type": "code",
   "execution_count": 26,
   "metadata": {
    "collapsed": true
   },
   "outputs": [],
   "source": [
    "# TODO !!!"
   ]
  },
  {
   "cell_type": "markdown",
   "metadata": {},
   "source": [
    "# Term Grouping"
   ]
  },
  {
   "cell_type": "code",
   "execution_count": 28,
   "metadata": {
    "collapsed": true
   },
   "outputs": [],
   "source": [
    "# TODO \n",
    "# Write groups of terms to file system in blocks so as to streamline downloading in UI !!!"
   ]
  },
  {
   "cell_type": "code",
   "execution_count": null,
   "metadata": {
    "collapsed": true
   },
   "outputs": [],
   "source": []
  }
 ],
 "metadata": {
  "kernelspec": {
   "display_name": "Python 2",
   "language": "python",
   "name": "python2"
  },
  "language_info": {
   "codemirror_mode": {
    "name": "ipython",
    "version": 2
   },
   "file_extension": ".py",
   "mimetype": "text/x-python",
   "name": "python",
   "nbconvert_exporter": "python",
   "pygments_lexer": "ipython2",
   "version": "2.7.10"
  }
 },
 "nbformat": 4,
 "nbformat_minor": 0
}
