{
 "cells": [
  {
   "cell_type": "markdown",
   "metadata": {},
   "source": [
    "# Setup"
   ]
  },
  {
   "cell_type": "markdown",
   "metadata": {},
   "source": [
    "### Import libs."
   ]
  },
  {
   "cell_type": "code",
   "execution_count": null,
   "metadata": {
    "collapsed": false
   },
   "outputs": [],
   "source": [
    "import os\n",
    "\n",
    "import pyessv"
   ]
  },
  {
   "cell_type": "markdown",
   "metadata": {},
   "source": [
    "### Set constants."
   ]
  },
  {
   "cell_type": "code",
   "execution_count": null,
   "metadata": {
    "collapsed": true
   },
   "outputs": [],
   "source": [
    "_VOCAB_DOMAIN = u\"earth-system.modelling\"\n",
    "_VOCAB_SUBDOMAIN = u\"ipsl.prodiguer\"    \n",
    "_VOCAB_IO_DIR = os.getenv(\"PRODIGUER_PYESSV_HOME\")\n",
    "_TERMSET_COMPUTE_NODE = u\"compute_node\""
   ]
  },
  {
   "cell_type": "markdown",
   "metadata": {},
   "source": [
    "# Partition creation"
   ]
  },
  {
   "cell_type": "code",
   "execution_count": null,
   "metadata": {
    "collapsed": false
   },
   "outputs": [],
   "source": [
    "# Create vocab partition.\n",
    "partition = pyessv.create_partition(\n",
    "    _VOCAB_DOMAIN,\n",
    "    _VOCAB_SUBDOMAIN,\n",
    "    _VOCAB_IO_DIR\n",
    ")"
   ]
  },
  {
   "cell_type": "code",
   "execution_count": null,
   "metadata": {
    "collapsed": false
   },
   "outputs": [],
   "source": [
    "# Show partitions.\n",
    "pyessv.show_partitions()"
   ]
  },
  {
   "cell_type": "markdown",
   "metadata": {},
   "source": [
    "# Partition cache"
   ]
  },
  {
   "cell_type": "markdown",
   "metadata": {},
   "source": [
    "### Load"
   ]
  },
  {
   "cell_type": "code",
   "execution_count": null,
   "metadata": {
    "collapsed": false
   },
   "outputs": [],
   "source": [
    "# Loads terms from file system into memory.\n",
    "partition.load()"
   ]
  },
  {
   "cell_type": "markdown",
   "metadata": {},
   "source": [
    "### Counts"
   ]
  },
  {
   "cell_type": "code",
   "execution_count": null,
   "metadata": {
    "collapsed": true
   },
   "outputs": [],
   "source": [
    "# Cache count - all terms in all termsets;\n",
    "assert partition.count() == 428\n",
    "\n",
    "# Cache count - terms within a single termset;\n",
    "assert partition.count(_TERMSET_COMPUTE_NODE) == 7\n",
    "\n",
    "# Cache count - single term;\n",
    "assert partition.count(_TERMSET_COMPUTE_NODE, \"tgcc\") == 1"
   ]
  },
  {
   "cell_type": "markdown",
   "metadata": {},
   "source": [
    "### Access"
   ]
  },
  {
   "cell_type": "code",
   "execution_count": null,
   "metadata": {
    "collapsed": false
   },
   "outputs": [],
   "source": [
    "# Cache access - all termsets;\n",
    "termsets = partition.query()\n",
    "assert isinstance(termsets, dict)\n",
    "\n",
    "# Cache access - single termset;\n",
    "termset = partition.query(_TERMSET_COMPUTE_NODE)\n",
    "assert isinstance(termset, list)\n",
    "\n",
    "# Cache access - single term.\n",
    "term = partition.query(_TERMSET_COMPUTE_NODE, \"tgcc\")\n",
    "assert isinstance(term, pyessv.Term)"
   ]
  },
  {
   "cell_type": "markdown",
   "metadata": {},
   "source": [
    "### Listing"
   ]
  },
  {
   "cell_type": "code",
   "execution_count": null,
   "metadata": {
    "collapsed": false
   },
   "outputs": [],
   "source": [
    "# Cache listing - all termsets;\n",
    "partition.show()"
   ]
  },
  {
   "cell_type": "code",
   "execution_count": null,
   "metadata": {
    "collapsed": false
   },
   "outputs": [],
   "source": [
    "# Cache listing - single termset;\n",
    "partition.show(_TERMSET_COMPUTE_NODE)"
   ]
  },
  {
   "cell_type": "code",
   "execution_count": null,
   "metadata": {
    "collapsed": false
   },
   "outputs": [],
   "source": [
    "# Cache listing - single term;\n",
    "partition.show(_TERMSET_COMPUTE_NODE, \"tgcc\")"
   ]
  },
  {
   "cell_type": "markdown",
   "metadata": {},
   "source": [
    "# Term management"
   ]
  },
  {
   "cell_type": "markdown",
   "metadata": {},
   "source": [
    "### Creation"
   ]
  },
  {
   "cell_type": "code",
   "execution_count": null,
   "metadata": {
    "collapsed": false
   },
   "outputs": [],
   "source": [
    "# Use partition to create new terms.\n",
    "term = partition.create(_TERMSET_COMPUTE_NODE, u\"xxx\")\n",
    "assert isinstance(term, pyessv.Term)"
   ]
  },
  {
   "cell_type": "markdown",
   "metadata": {},
   "source": [
    "### Validation"
   ]
  },
  {
   "cell_type": "code",
   "execution_count": null,
   "metadata": {
    "collapsed": false
   },
   "outputs": [],
   "source": [
    "# Invalid term - kind has invalid characters.\n",
    "invalid_term = partition.create(u\"&!@\", u\"xxx\")\n",
    "\n",
    "assert invalid_term.is_valid == False\n",
    "assert len(invalid_term.errors) == 1\n",
    "\n",
    "invalid_term.show_errors()"
   ]
  },
  {
   "cell_type": "code",
   "execution_count": null,
   "metadata": {
    "collapsed": false
   },
   "outputs": [],
   "source": [
    "# Invalid term - name has invalid characters.\n",
    "invalid_term = partition.create(_TERMSET_COMPUTE_NODE, u\"x&!\")\n",
    "\n",
    "assert invalid_term.is_valid == False\n",
    "assert len(invalid_term.errors) == 1\n",
    "\n",
    "invalid_term.show_errors()"
   ]
  },
  {
   "cell_type": "code",
   "execution_count": null,
   "metadata": {
    "collapsed": false
   },
   "outputs": [],
   "source": [
    "# Invalid term - kind & name have invalid characters.\n",
    "invalid_term = partition.create(u\"&!@\", u\"x&!\")\n",
    "\n",
    "assert invalid_term.is_valid == False\n",
    "assert len(invalid_term.errors) == 2\n",
    "\n",
    "invalid_term.show_errors()"
   ]
  },
  {
   "cell_type": "markdown",
   "metadata": {},
   "source": [
    "### Encoding"
   ]
  },
  {
   "cell_type": "code",
   "execution_count": null,
   "metadata": {
    "collapsed": false
   },
   "outputs": [],
   "source": [
    "# Encode as python dictionary.\n",
    "as_dict = term.as_dict()\n",
    "assert isinstance(as_dict(), dict)\n",
    "\n",
    "# Encode as JSON.\n",
    "as_json = term.as_json()\n",
    "assert isinstance(as_json, str)"
   ]
  },
  {
   "cell_type": "markdown",
   "metadata": {},
   "source": [
    "### Persistence"
   ]
  },
  {
   "cell_type": "code",
   "execution_count": null,
   "metadata": {
    "collapsed": false
   },
   "outputs": [],
   "source": [
    "# Saving a term writes to cache & file system.\n",
    "assert term.is_cached == False\n",
    "assert term.is_written == False\n",
    "\n",
    "term.save()\n",
    "\n",
    "assert term.is_cached == True\n",
    "assert term.is_written == True"
   ]
  },
  {
   "cell_type": "markdown",
   "metadata": {},
   "source": [
    "# Term Governance"
   ]
  },
  {
   "cell_type": "code",
   "execution_count": null,
   "metadata": {
    "collapsed": false
   },
   "outputs": [],
   "source": [
    "# What is initial governance status ?\n",
    "term.status"
   ]
  },
  {
   "cell_type": "code",
   "execution_count": null,
   "metadata": {
    "collapsed": false
   },
   "outputs": [],
   "source": [
    "# Accept.\n",
    "term.accept()"
   ]
  },
  {
   "cell_type": "code",
   "execution_count": null,
   "metadata": {
    "collapsed": false
   },
   "outputs": [],
   "source": [
    "# Reject.\n",
    "term.reject()"
   ]
  },
  {
   "cell_type": "code",
   "execution_count": null,
   "metadata": {
    "collapsed": false
   },
   "outputs": [],
   "source": [
    "# Deprecate.\n",
    "term.deprecate()"
   ]
  },
  {
   "cell_type": "code",
   "execution_count": null,
   "metadata": {
    "collapsed": true
   },
   "outputs": [],
   "source": [
    "# Destroy.\n",
    "assert partition.count(_TERMSET_COMPUTE_NODE) == 8\n",
    "assert partition.query(_TERMSET_COMPUTE_NODE, \"xxx\") is not None\n",
    "\n",
    "term.destroy()\n",
    "\n",
    "assert partition.count(_TERMSET_COMPUTE_NODE) == 7\n",
    "assert partition.query(_TERMSET_COMPUTE_NODE, \"xxx\") is None"
   ]
  },
  {
   "cell_type": "markdown",
   "metadata": {},
   "source": [
    "# Term Parsing"
   ]
  },
  {
   "cell_type": "code",
   "execution_count": null,
   "metadata": {
    "collapsed": true
   },
   "outputs": [],
   "source": [
    "# Parse a name that matches. \n",
    "name = \"tgcc\"\n",
    "parsed_name = partition.parse(_TERMSET_COMPUTE_NODE, name)\n",
    "assert name = parsed_name"
   ]
  },
  {
   "cell_type": "code",
   "execution_count": null,
   "metadata": {
    "collapsed": true
   },
   "outputs": [],
   "source": [
    "# Parse a name that almost matches. \n",
    "name = \"tGcC\"\n",
    "parsed_name = partition.parse(_TERMSET_COMPUTE_NODE, name)\n",
    "assert name != parsed_name\n",
    "assert parsed_name == \"tgcc\""
   ]
  },
  {
   "cell_type": "code",
   "execution_count": null,
   "metadata": {
    "collapsed": true
   },
   "outputs": [],
   "source": [
    "# Parse an alternative name.\n",
    "alt_name = \"saclay\"\n",
    "parsed_name = partition.parse(_TERMSET_COMPUTE_NODE, alt_name)\n",
    "assert alt_name != parsed_name\n",
    "assert parsed_name == \"tgcc\""
   ]
  },
  {
   "cell_type": "code",
   "execution_count": null,
   "metadata": {
    "collapsed": true
   },
   "outputs": [],
   "source": [
    "# Parse an alias.\n",
    "alias = \"TGCC-1\"\n",
    "parsed_name = partition.parse(_TERMSET_COMPUTE_NODE, alias)\n",
    "assert alias != parsed_name\n",
    "assert parsed_name == \"tgcc\""
   ]
  },
  {
   "cell_type": "markdown",
   "metadata": {},
   "source": [
    "# Term Relationships"
   ]
  },
  {
   "cell_type": "code",
   "execution_count": null,
   "metadata": {
    "collapsed": true
   },
   "outputs": [],
   "source": []
  }
 ],
 "metadata": {
  "kernelspec": {
   "display_name": "Python 2",
   "language": "python",
   "name": "python2"
  },
  "language_info": {
   "codemirror_mode": {
    "name": "ipython",
    "version": 2
   },
   "file_extension": ".py",
   "mimetype": "text/x-python",
   "name": "python",
   "nbconvert_exporter": "python",
   "pygments_lexer": "ipython2",
   "version": "2.7.10"
  }
 },
 "nbformat": 4,
 "nbformat_minor": 0
}
