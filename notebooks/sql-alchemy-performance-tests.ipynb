{
 "cells": [
  {
   "cell_type": "markdown",
   "metadata": {},
   "source": [
    "## Setup"
   ]
  },
  {
   "cell_type": "code",
   "execution_count": null,
   "metadata": {
    "collapsed": false
   },
   "outputs": [],
   "source": [
    "import os\n",
    "\n",
    "import arrow\n",
    "import sqlalchemy\n",
    "import psycopg2\n",
    "\n",
    "from prodiguer.db import pgres as db\n",
    "\n",
    "# Set timeslice to 12 months - returns 132480 jobs.\n",
    "_TIMESLICE = arrow.utcnow().replace(days=-365)\n",
    "\n",
    "# Start SqlAlchemy session.\n",
    "db.session.start()\n",
    "\n",
    "# Set SqlAlchemy query targets.\n",
    "j = db.types.Job\n",
    "s = db.types.Simulation\n",
    "\n",
    "# Start psycopg2 session.\n",
    "db_conn = psycopg2.connect(\n",
    "    database=db.constants.PRODIGUER_DB_NAME,\n",
    "    user=db.constants.PRODIGUER_DB_USER,\n",
    "    host=os.getenv(\"PRODIGUER_DB_PGRES_HOST\").split(\":\")[0]\n",
    "    )"
   ]
  },
  {
   "cell_type": "markdown",
   "metadata": {},
   "source": [
    "## SqlAlchemy with ORM mapper :: 4.89 seconds"
   ]
  },
  {
   "cell_type": "code",
   "execution_count": null,
   "metadata": {
    "collapsed": false
   },
   "outputs": [],
   "source": [
    "# Code is simple but slow for large queries due to ORM overhead.\n",
    "qry = db.session.query(j)\n",
    "qry = qry.join(s, j.simulation_uid==s.uid)\n",
    "qry = qry.filter(j.execution_start_date != None)\n",
    "qry = qry.filter(s.execution_start_date != None)\n",
    "qry = qry.filter(s.is_obsolete == False)\n",
    "qry = qry.filter(s.execution_start_date >= _TIMESLICE)\n",
    "\n",
    "jobs = qry.all()"
   ]
  },
  {
   "cell_type": "markdown",
   "metadata": {},
   "source": [
    "## SqlAlchemy without ORM mapper :: 1.42 seconds"
   ]
  },
  {
   "cell_type": "code",
   "execution_count": null,
   "metadata": {
    "collapsed": true
   },
   "outputs": [],
   "source": [
    "# Code is simple and fast.\n",
    "qry = db.sa_session.query(\n",
    "    j.execution_end_date,\n",
    "    j.execution_start_date,\n",
    "    j.is_compute_end,\n",
    "    j.is_error,\n",
    "    j.job_uid,\n",
    "    j.simulation_uid,\n",
    "    j.typeof\n",
    "    )\n",
    "qry = qry.join(s, j.simulation_uid == s.uid)\n",
    "qry = qry.filter(j.execution_start_date != None)\n",
    "qry = qry.filter(s.execution_start_date != None)\n",
    "qry = qry.filter(s.is_obsolete == False)\n",
    "qry = qry.filter(s.execution_start_date >= _TIMESLICE)\n",
    "\n",
    "jobs = qry.all()"
   ]
  },
  {
   "cell_type": "markdown",
   "metadata": {},
   "source": [
    "## psycopg2 direct :: 1.23 seconds"
   ]
  },
  {
   "cell_type": "code",
   "execution_count": null,
   "metadata": {
    "collapsed": true
   },
   "outputs": [],
   "source": [
    "# Code is messy but fast.\n",
    "SQL = \"\"\"SELECT\n",
    "    to_char(j.execution_end_date, 'YYYY-MM-DD HH24:MI:ss.US'),\n",
    "    to_char(j.execution_start_date, 'YYYY-MM-DD HH24:MI:ss.US'),\n",
    "    j.is_compute_end,\n",
    "    j.is_error,\n",
    "    j.job_uid,\n",
    "    j.simulation_uid,\n",
    "    j.typeof\n",
    "FROM\n",
    "    monitoring.tbl_job as j\n",
    "JOIN\n",
    "    monitoring.tbl_simulation as s ON j.simulation_uid = s.uid\n",
    "WHERE\n",
    "    j.execution_start_date IS NOT NULL AND\n",
    "    s.execution_start_date IS NOT NULL AND\n",
    "    s.is_obsolete = false AND\n",
    "    s.execution_start_date >= '{}'\n",
    "ORDER BY\n",
    "    j.execution_start_date;\n",
    "\"\"\".format(_TIMESLICE)\n",
    "\n",
    "cur = db_conn.cursor()\n",
    "cur.execute(SQL)\n",
    "jobs = = cur.fetchall()"
   ]
  },
  {
   "cell_type": "markdown",
   "metadata": {},
   "source": [
    "## Cleanup"
   ]
  },
  {
   "cell_type": "code",
   "execution_count": null,
   "metadata": {
    "collapsed": true
   },
   "outputs": [],
   "source": [
    "# Close SqlAlchmey session.\n",
    "db.session.end()\n",
    "\n",
    "# Close psycopg2 session.\n",
    "db_conn.close()"
   ]
  }
 ],
 "metadata": {
  "kernelspec": {
   "display_name": "Python 2",
   "language": "python",
   "name": "python2"
  },
  "language_info": {
   "codemirror_mode": {
    "name": "ipython",
    "version": 2
   },
   "file_extension": ".py",
   "mimetype": "text/x-python",
   "name": "python",
   "nbconvert_exporter": "python",
   "pygments_lexer": "ipython2",
   "version": "2.7.10"
  }
 },
 "nbformat": 4,
 "nbformat_minor": 0
}
